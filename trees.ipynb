{
 "cells": [
  {
   "cell_type": "markdown",
   "metadata": {},
   "source": [
    "Trees\n",
    "\n",
    "Utilizzeremo prima un decision tree di sklearn e successivamente una random forest dello stesso pacchetto"
   ]
  },
  {
   "cell_type": "code",
   "execution_count": 1,
   "metadata": {},
   "outputs": [
    {
     "name": "stderr",
     "output_type": "stream",
     "text": [
      "c:\\Users\\giuse\\OneDrive\\Documents\\GitHub\\ProgettoMachineLearning\\importData.py:7: SyntaxWarning: invalid escape sequence '\\s'\n",
      "  _test = pd.read_csv(testPath, sep='\\s', header=None)\n",
      "c:\\Users\\giuse\\OneDrive\\Documents\\GitHub\\ProgettoMachineLearning\\importData.py:8: SyntaxWarning: invalid escape sequence '\\s'\n",
      "  _train = pd.read_csv(trainPath, sep='\\s', header=None)\n"
     ]
    }
   ],
   "source": [
    "from sklearn.tree import DecisionTreeClassifier\n",
    "from sklearn.ensemble import RandomForestClassifier, ExtraTreesClassifier\n",
    "\n",
    "import importData"
   ]
  },
  {
   "cell_type": "code",
   "execution_count": 5,
   "metadata": {},
   "outputs": [
    {
     "name": "stderr",
     "output_type": "stream",
     "text": [
      "c:\\Users\\giuse\\OneDrive\\Documents\\GitHub\\ProgettoMachineLearning\\importData.py:7: ParserWarning: Falling back to the 'python' engine because the 'c' engine does not support regex separators (separators > 1 char and different from '\\s+' are interpreted as regex); you can avoid this warning by specifying engine='python'.\n",
      "  _test = pd.read_csv(testPath, sep='\\s', header=None)\n",
      "c:\\Users\\giuse\\OneDrive\\Documents\\GitHub\\ProgettoMachineLearning\\importData.py:8: ParserWarning: Falling back to the 'python' engine because the 'c' engine does not support regex separators (separators > 1 char and different from '\\s+' are interpreted as regex); you can avoid this warning by specifying engine='python'.\n",
      "  _train = pd.read_csv(trainPath, sep='\\s', header=None)\n",
      "c:\\Users\\giuse\\OneDrive\\Documents\\GitHub\\ProgettoMachineLearning\\importData.py:7: ParserWarning: Falling back to the 'python' engine because the 'c' engine does not support regex separators (separators > 1 char and different from '\\s+' are interpreted as regex); you can avoid this warning by specifying engine='python'.\n",
      "  _test = pd.read_csv(testPath, sep='\\s', header=None)\n",
      "c:\\Users\\giuse\\OneDrive\\Documents\\GitHub\\ProgettoMachineLearning\\importData.py:8: ParserWarning: Falling back to the 'python' engine because the 'c' engine does not support regex separators (separators > 1 char and different from '\\s+' are interpreted as regex); you can avoid this warning by specifying engine='python'.\n",
      "  _train = pd.read_csv(trainPath, sep='\\s', header=None)\n",
      "c:\\Users\\giuse\\OneDrive\\Documents\\GitHub\\ProgettoMachineLearning\\importData.py:7: ParserWarning: Falling back to the 'python' engine because the 'c' engine does not support regex separators (separators > 1 char and different from '\\s+' are interpreted as regex); you can avoid this warning by specifying engine='python'.\n",
      "  _test = pd.read_csv(testPath, sep='\\s', header=None)\n",
      "c:\\Users\\giuse\\OneDrive\\Documents\\GitHub\\ProgettoMachineLearning\\importData.py:8: ParserWarning: Falling back to the 'python' engine because the 'c' engine does not support regex separators (separators > 1 char and different from '\\s+' are interpreted as regex); you can avoid this warning by specifying engine='python'.\n",
      "  _train = pd.read_csv(trainPath, sep='\\s', header=None)\n"
     ]
    }
   ],
   "source": [
    "useTensor = False\n",
    "dataPath = \"C:\\\\Users\\\\giuse\\\\Downloads\\\\monk\\\\monks-\"\n",
    "monk1 = importData.importData(dataPath + \"1.train\", dataPath + \"1.test\", tensor=useTensor)\n",
    "monk2 = importData.importData(dataPath + \"2.train\", dataPath + \"2.test\", tensor=useTensor)\n",
    "monk3 = importData.importData(dataPath + \"3.train\", dataPath + \"3.test\", tensor=useTensor)"
   ]
  },
  {
   "cell_type": "code",
   "execution_count": 27,
   "metadata": {},
   "outputs": [
    {
     "name": "stdout",
     "output_type": "stream",
     "text": [
      "Decision Tree\n",
      "Monk-1 score: 0.7338709677419355\tLeaves: 55\n",
      "Monk-2 score: 0.621301775147929\t\tLeaves: 67\n",
      "Monk-3 score: 0.9508196721311475\tLeaves: 8\n"
     ]
    }
   ],
   "source": [
    "class_weight = \"balanced\"\n",
    "treeMonk1 = DecisionTreeClassifier(class_weight=class_weight).fit(monk1.featuresTrain, monk1.labelTrain)\n",
    "treeMonk2 = DecisionTreeClassifier(class_weight=class_weight).fit(monk2.featuresTrain, monk2.labelTrain)\n",
    "treeMonk3 = DecisionTreeClassifier(class_weight=class_weight).fit(monk3.featuresTrain, monk3.labelTrain)\n",
    "\n",
    "treeMonk1Score = treeMonk1.score(monk1.featuresTest, monk1.labelTest)\n",
    "treeMonk2Score = treeMonk2.score(monk2.featuresTest, monk2.labelTest)\n",
    "treeMonk3Score = treeMonk3.score(monk3.featuresTest, monk3.labelTest)\n",
    "\n",
    "print(\"Decision Tree\")\n",
    "print(f\"Monk-1 score: {treeMonk1Score}\\tLeaves: {treeMonk1.get_n_leaves()}\")\n",
    "print(f\"Monk-2 score: {treeMonk2Score}\\t\\tLeaves: {treeMonk2.get_n_leaves()}\")\n",
    "print(f\"Monk-3 score: {treeMonk3Score}\\tLeaves: {treeMonk3.get_n_leaves()}\")"
   ]
  },
  {
   "cell_type": "code",
   "execution_count": 23,
   "metadata": {},
   "outputs": [
    {
     "name": "stdout",
     "output_type": "stream",
     "text": [
      "\n",
      "Random Forest\n",
      "Monk-1 score: 0.7338709677419355\n",
      "Monk-2 score: 0.6390532544378699\n",
      "Monk-3 score: 0.9508196721311475\n"
     ]
    }
   ],
   "source": [
    "forestMonk1 = RandomForestClassifier().fit(monk1.featuresTrain, monk1.labelTrain)\n",
    "forestMonk2 = RandomForestClassifier(class_weight=class_weight).fit(monk2.featuresTrain, monk2.labelTrain)\n",
    "forestMonk3 = RandomForestClassifier().fit(monk3.featuresTrain, monk3.labelTrain)\n",
    "\n",
    "forestMonk1Score = forestMonk1.score(monk1.featuresTest, monk1.labelTest)\n",
    "forestMonk2Score = forestMonk2.score(monk2.featuresTest, monk2.labelTest)\n",
    "forestMonk3Score = forestMonk3.score(monk3.featuresTest, monk3.labelTest)\n",
    "\n",
    "print(\"\\nRandom Forest\")\n",
    "print(f\"Monk-1 score: {forestMonk1Score}\")\n",
    "print(f\"Monk-2 score: {forestMonk2Score}\")\n",
    "print(f\"Monk-3 score: {forestMonk3Score}\")"
   ]
  },
  {
   "cell_type": "code",
   "execution_count": 54,
   "metadata": {},
   "outputs": [
    {
     "name": "stdout",
     "output_type": "stream",
     "text": [
      "\n",
      "Extra Trees\n",
      "Monk-1 score: 0.7338709677419355\n",
      "Monk-2 score: 0.621301775147929\n",
      "Monk-3 score: 0.9508196721311475\n"
     ]
    }
   ],
   "source": [
    "extraTreeMonk1 = ExtraTreesClassifier(class_weight=class_weight).fit(monk1.featuresTrain, monk1.labelTrain)\n",
    "extraTreeMonk2 = ExtraTreesClassifier(class_weight=class_weight).fit(monk2.featuresTrain, monk2.labelTrain)\n",
    "extraTreeMonk3 = ExtraTreesClassifier(class_weight=class_weight).fit(monk3.featuresTrain, monk3.labelTrain)\n",
    "\n",
    "extraTreeMonk1Score = extraTreeMonk1.score(monk1.featuresTest, monk1.labelTest)\n",
    "extraTreeMonk2Score = extraTreeMonk2.score(monk2.featuresTest, monk2.labelTest)\n",
    "extraTreeMonk3Score = extraTreeMonk3.score(monk3.featuresTest, monk3.labelTest)\n",
    "\n",
    "print(\"\\nExtra Trees\")\n",
    "print(f\"Monk-1 score: {extraTreeMonk1Score}\") # \\tLeaves: {extraTreeMonk1.get_n_leaves()}\")\n",
    "print(f\"Monk-2 score: {extraTreeMonk2Score}\") # \\t\\tLeaves: {extraTreeMonk2.get_n_leaves()}\")\n",
    "print(f\"Monk-3 score: {extraTreeMonk3Score}\") #\\tLeaves: {extraTreeMonk3.get_n_leaves()}\")"
   ]
  }
 ],
 "metadata": {
  "kernelspec": {
   "display_name": "Python 3",
   "language": "python",
   "name": "python3"
  },
  "language_info": {
   "codemirror_mode": {
    "name": "ipython",
    "version": 3
   },
   "file_extension": ".py",
   "mimetype": "text/x-python",
   "name": "python",
   "nbconvert_exporter": "python",
   "pygments_lexer": "ipython3",
   "version": "3.13.0"
  }
 },
 "nbformat": 4,
 "nbformat_minor": 2
}
