{
 "cells": [
  {
   "cell_type": "code",
   "execution_count": null,
   "metadata": {},
   "outputs": [],
   "source": [
    "import numpy as np\n",
    "import pandas as pd\n",
    "import matplotlib.pyplot as plt\n",
    "import sklearn.linear_model as lm\n",
    "from sklearn.metrics import accuracy_score\n",
    "from sklearn.preprocessing import StandardScaler\n",
    "\n",
    "fPath = \"C:\\\\Users\\\\giuse\\\\Downloads\\\\monk\\\\\"\n",
    "nameTrain = \"monks-3.train\"\n",
    "nameTest = \"monks-3.test\"\n",
    "test = pd.read_csv(fPath + nameTest, sep=\" \", header=None)\n",
    "train = pd.read_csv(fPath + nameTrain, sep=\" \", header=None)\n",
    "\n",
    "# scaler = StandardScaler()\n",
    "# scaler = scaler.fit(test)\n",
    "# trasfTest = scaler.transform(test)\n",
    "# scaler = StandardScaler().fit(train)\n",
    "# trasfTrain = StandardScaler().fit_transform(train)\n",
    "\n",
    "Y = train.iloc[:, 1]\n",
    "X = train.iloc[:, 2:8]\n",
    "xTest = test.iloc[:, 2:8]"
   ]
  },
  {
   "cell_type": "markdown",
   "metadata": {},
   "source": [
    "Primo modello di regressione logistica: lbfgs\n"
   ]
  },
  {
   "cell_type": "code",
   "execution_count": 14,
   "metadata": {},
   "outputs": [
    {
     "name": "stdout",
     "output_type": "stream",
     "text": [
      "0.8217592592592593\n",
      "0.75\n"
     ]
    }
   ],
   "source": [
    "logistic = lm.LogisticRegression(solver=\"lbfgs\", verbose=0)\n",
    "logisticCV = lm.LogisticRegressionCV(cv=50, solver=\"lbfgs\", verbose=0)\n",
    "logistic.fit(X, Y)\n",
    "logisticCV.fit(xTest, test.iloc[:, 1])\n",
    "\n",
    "logistic.predict(xTest)\n",
    "print(logistic.score(xTest, test.iloc[:, 1]))\n",
    "print(logisticCV.score(xTest, test.iloc[:, 1]))\n"
   ]
  },
  {
   "cell_type": "markdown",
   "metadata": {},
   "source": [
    "Secondo modello di regressione logistica: lilblinear"
   ]
  },
  {
   "cell_type": "code",
   "execution_count": 15,
   "metadata": {},
   "outputs": [
    {
     "name": "stdout",
     "output_type": "stream",
     "text": [
      "0.8009259259259259\n",
      "0.8055555555555556\n"
     ]
    }
   ],
   "source": [
    "logistic2 = lm.LogisticRegression(solver=\"liblinear\", verbose=0)\n",
    "logisticCV2 = lm.LogisticRegressionCV(cv=50, solver=\"liblinear\", verbose=0)\n",
    "logistic2.fit(X, Y)\n",
    "logisticCV2.fit(xTest, test.iloc[:, 1])\n",
    "\n",
    "logistic2.predict(xTest)\n",
    "print(logistic2.score(xTest, test.iloc[:, 1]))\n",
    "print(logisticCV2.score(xTest, test.iloc[:, 1]))"
   ]
  },
  {
   "cell_type": "markdown",
   "metadata": {},
   "source": [
    "Terzo modello di regressione logistica: newton-cholesky"
   ]
  },
  {
   "cell_type": "code",
   "execution_count": 16,
   "metadata": {},
   "outputs": [
    {
     "name": "stdout",
     "output_type": "stream",
     "text": [
      "0.8217592592592593\n",
      "0.75\n"
     ]
    }
   ],
   "source": [
    "logistic3 = lm.LogisticRegression(solver=\"newton-cholesky\", verbose=0)\n",
    "logisticCV3 = lm.LogisticRegressionCV(cv=50, solver=\"newton-cholesky\", verbose=0)\n",
    "logistic3.fit(X, Y)\n",
    "logisticCV3.fit(xTest, test.iloc[:, 1])\n",
    "\n",
    "logistic3.predict(xTest)\n",
    "print(logistic3.score(xTest, test.iloc[:, 1]))\n",
    "print(logisticCV3.score(xTest, test.iloc[:, 1]))"
   ]
  },
  {
   "cell_type": "markdown",
   "metadata": {},
   "source": [
    "Quarto modello di regressione logistica: saga"
   ]
  },
  {
   "cell_type": "code",
   "execution_count": 17,
   "metadata": {},
   "outputs": [
    {
     "name": "stderr",
     "output_type": "stream",
     "text": [
      "C:\\Users\\giuse\\AppData\\Roaming\\Python\\Python313\\site-packages\\sklearn\\linear_model\\_sag.py:349: ConvergenceWarning: The max_iter was reached which means the coef_ did not converge\n",
      "  warnings.warn(\n"
     ]
    },
    {
     "name": "stdout",
     "output_type": "stream",
     "text": [
      "0.8240740740740741\n",
      "0.75\n"
     ]
    }
   ],
   "source": [
    "logistic4 = lm.LogisticRegression(solver=\"sag\", verbose=0)\n",
    "logisticCV4 = lm.LogisticRegressionCV(cv=50, solver=\"sag\", verbose=0)\n",
    "logistic4.fit(X, Y)\n",
    "logisticCV4.fit(xTest, test.iloc[:, 1])\n",
    "\n",
    "logistic4.predict(xTest)\n",
    "print(logistic4.score(xTest, test.iloc[:, 1]))\n",
    "print(logisticCV4.score(xTest, test.iloc[:, 1]))"
   ]
  }
 ],
 "metadata": {
  "kernelspec": {
   "display_name": "Python 3",
   "language": "python",
   "name": "python3"
  },
  "language_info": {
   "codemirror_mode": {
    "name": "ipython",
    "version": 3
   },
   "file_extension": ".py",
   "mimetype": "text/x-python",
   "name": "python",
   "nbconvert_exporter": "python",
   "pygments_lexer": "ipython3",
   "version": "3.13.0"
  }
 },
 "nbformat": 4,
 "nbformat_minor": 2
}
