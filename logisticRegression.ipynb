{
 "cells": [
  {
   "cell_type": "code",
   "execution_count": null,
   "metadata": {},
   "outputs": [],
   "source": [
    "import numpy as np\n",
    "import pandas as pd\n",
    "import matplotlib.pyplot as plt\n",
    "import sklearn.linear_model as lm\n",
    "\n",
    "fPath = \"C:\\\\Users\\\\giuse\\\\Downloads\\\\monk\\\\\"\n",
    "nameTrain = \"monks-1.train\"\n",
    "nameTest = \"monks-1.test\"\n",
    "test = pd.read_csv(fPath + nameTest, sep=\" \", header=None)\n",
    "train = pd.read_csv(fPath + nameTrain, sep=\" \", header=None)\n",
    "Y = train.iloc[:, 1]\n",
    "X = train.iloc[:, 2:8]\n",
    "xTest = test.iloc[:, 2:8]\n"
   ]
  },
  {
   "cell_type": "code",
   "execution_count": 34,
   "metadata": {},
   "outputs": [
    {
     "name": "stdout",
     "output_type": "stream",
     "text": [
      "convergence after 86 epochs took 0 seconds\n",
      "0.6620370370370371\n"
     ]
    }
   ],
   "source": [
    "logistic = lm.LogisticRegression(solver=\"sag\", verbose=1)\n",
    "logistic.fit(X, Y)\n",
    "\n",
    "logistic.predict(xTest)\n",
    "print(logistic.score(xTest, test.iloc[:, 1]))\n"
   ]
  }
 ],
 "metadata": {
  "kernelspec": {
   "display_name": "Python 3",
   "language": "python",
   "name": "python3"
  },
  "language_info": {
   "codemirror_mode": {
    "name": "ipython",
    "version": 3
   },
   "file_extension": ".py",
   "mimetype": "text/x-python",
   "name": "python",
   "nbconvert_exporter": "python",
   "pygments_lexer": "ipython3",
   "version": "3.13.0"
  }
 },
 "nbformat": 4,
 "nbformat_minor": 2
}
