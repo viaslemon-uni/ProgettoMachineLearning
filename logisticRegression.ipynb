{
  "cells": [
    {
      "cell_type": "code",
      "execution_count": 65,
      "metadata": {
        "id": "ASk-Jv3bbgpq",
        "outputId": "184cb138-1ce4-45c4-a2e0-d237e0216e6f",
        "colab": {
          "base_uri": "https://localhost:8080/"
        }
      },
      "outputs": [
        {
          "output_type": "stream",
          "name": "stdout",
          "text": [
            "0      1\n",
            "1      1\n",
            "2      1\n",
            "3      0\n",
            "4      0\n",
            "      ..\n",
            "117    0\n",
            "118    0\n",
            "119    0\n",
            "120    0\n",
            "121    0\n",
            "Name: 0, Length: 122, dtype: int64\n"
          ]
        }
      ],
      "source": [
        "import numpy as np\n",
        "import pandas as pd\n",
        "import matplotlib.pyplot as plt\n",
        "import sklearn.linear_model as lm\n",
        "from sklearn.metrics import accuracy_score\n",
        "from sklearn.preprocessing import StandardScaler\n",
        "import torch\n",
        "\n",
        "# fPath = \"C:\\\\Users\\\\giuse\\\\Downloads\\\\monk\\\\\"\n",
        "nameTrain = \"monks-3.train\"\n",
        "nameTest = \"monks-3.test\"\n",
        "test = pd.read_csv(nameTest, sep=\"\\s+\", header=None)\n",
        "train = pd.read_csv(nameTrain, sep=\"\\s+\", header=None)\n",
        "\n",
        "scaler = StandardScaler()\n",
        "scaler = scaler.fit(train.iloc[:, 1:-1])\n",
        "trasfTrain = scaler.transform(train.iloc[:, 1:-1])\n",
        "trasfTest = scaler.transform(test.iloc[:, 1:-1])\n",
        "\n",
        "trasfTest = torch.tensor(trasfTest, dtype=torch.float32)\n",
        "trasfTrain = torch.tensor(trasfTrain, dtype=torch.float32)\n",
        "\n",
        "Y = train.iloc[:, 0]\n",
        "#Y = torch.where(Y == -1, torch.tensor(0, dtype=torch.int32), torch.tensor(1, dtype=torch.int32))\n",
        "X = trasfTrain[:, 1:-1]\n",
        "xTest = trasfTest[:, 1:-1]\n",
        "\n",
        "#print(test)\n",
        "#print(xTest)\n",
        "print(Y)\n",
        "#print(train)"
      ]
    },
    {
      "cell_type": "markdown",
      "metadata": {
        "id": "11LltiOPbgps"
      },
      "source": [
        "Primo modello di regressione logistica: lbfgs\n"
      ]
    },
    {
      "cell_type": "code",
      "execution_count": 66,
      "metadata": {
        "id": "_SOOC8Nnbgpt",
        "outputId": "84e30a8f-d7ee-449f-c1ca-0869ff01c7a7",
        "colab": {
          "base_uri": "https://localhost:8080/"
        }
      },
      "outputs": [
        {
          "output_type": "stream",
          "name": "stdout",
          "text": [
            "0.8333333333333334\n"
          ]
        }
      ],
      "source": [
        "logistic = lm.LogisticRegression(solver=\"lbfgs\", verbose=0)\n",
        "#logisticCV = lm.LogisticRegressionCV(cv=50, solver=\"lbfgs\", verbose=0)\n",
        "logistic.fit(X, Y)\n",
        "#logisticCV.fit(xTest, test[:, 0])\n",
        "\n",
        "logistic.predict(xTest)\n",
        "print(logistic.score(xTest, test.iloc[:, 0]))\n",
        "#print(logisticCV.score(xTest, test.iloc[:, 0]))\n"
      ]
    },
    {
      "cell_type": "markdown",
      "metadata": {
        "id": "EmxsrRDcbgpu"
      },
      "source": [
        "Secondo modello di regressione logistica: lilblinear"
      ]
    },
    {
      "cell_type": "code",
      "execution_count": 67,
      "metadata": {
        "id": "tH1e0wc3bgpu",
        "outputId": "5158a8f3-a733-4f1e-8392-08c7051ab5c7",
        "colab": {
          "base_uri": "https://localhost:8080/"
        }
      },
      "outputs": [
        {
          "output_type": "stream",
          "name": "stdout",
          "text": [
            "0.8194444444444444\n",
            "0.7777777777777778\n"
          ]
        }
      ],
      "source": [
        "logistic2 = lm.LogisticRegression(solver=\"liblinear\", verbose=0)\n",
        "logisticCV2 = lm.LogisticRegressionCV(cv=50, solver=\"liblinear\", verbose=0)\n",
        "logistic2.fit(X, Y)\n",
        "logisticCV2.fit(xTest, test.iloc[:, 0])\n",
        "\n",
        "logistic2.predict(xTest)\n",
        "print(logistic2.score(xTest, test.iloc[:, 0]))\n",
        "print(logisticCV2.score(xTest, test.iloc[:, 0]))"
      ]
    },
    {
      "cell_type": "markdown",
      "metadata": {
        "id": "FP8fAZAIbgpv"
      },
      "source": [
        "Terzo modello di regressione logistica: newton-cholesky"
      ]
    },
    {
      "cell_type": "code",
      "execution_count": 68,
      "metadata": {
        "id": "pdT5NAFibgpv",
        "outputId": "a85b398e-33f9-403a-ca01-908ce85e18e6",
        "colab": {
          "base_uri": "https://localhost:8080/"
        }
      },
      "outputs": [
        {
          "output_type": "stream",
          "name": "stdout",
          "text": [
            "0.8333333333333334\n",
            "0.7777777777777778\n"
          ]
        }
      ],
      "source": [
        "logistic3 = lm.LogisticRegression(solver=\"newton-cholesky\", verbose=0)\n",
        "logisticCV3 = lm.LogisticRegressionCV(cv=50, solver=\"newton-cholesky\", verbose=0)\n",
        "logistic3.fit(X, Y)\n",
        "logisticCV3.fit(xTest, test.iloc[:, 0])\n",
        "\n",
        "logistic3.predict(xTest)\n",
        "print(logistic3.score(xTest, test.iloc[:, 0]))\n",
        "print(logisticCV3.score(xTest, test.iloc[:, 0]))"
      ]
    },
    {
      "cell_type": "markdown",
      "metadata": {
        "id": "_hFIPpeJbgpv"
      },
      "source": [
        "Quarto modello di regressione logistica: saga"
      ]
    },
    {
      "cell_type": "code",
      "execution_count": 69,
      "metadata": {
        "id": "iayjzeIKbgpv",
        "outputId": "58555282-128a-4ae1-8e9b-bb9c83fbd0ab",
        "colab": {
          "base_uri": "https://localhost:8080/"
        }
      },
      "outputs": [
        {
          "output_type": "stream",
          "name": "stdout",
          "text": [
            "0.8333333333333334\n",
            "0.7777777777777778\n"
          ]
        }
      ],
      "source": [
        "logistic4 = lm.LogisticRegression(solver=\"sag\", verbose=0)\n",
        "logisticCV4 = lm.LogisticRegressionCV(cv=50, solver=\"sag\", verbose=0)\n",
        "logistic4.fit(X, Y)\n",
        "logisticCV4.fit(xTest, test.iloc[:, 0])\n",
        "\n",
        "logistic4.predict(xTest)\n",
        "print(logistic4.score(xTest, test.iloc[:, 0]))\n",
        "print(logisticCV4.score(xTest, test.iloc[:, 0]))"
      ]
    }
  ],
  "metadata": {
    "kernelspec": {
      "display_name": "Python 3",
      "language": "python",
      "name": "python3"
    },
    "language_info": {
      "codemirror_mode": {
        "name": "ipython",
        "version": 3
      },
      "file_extension": ".py",
      "mimetype": "text/x-python",
      "name": "python",
      "nbconvert_exporter": "python",
      "pygments_lexer": "ipython3",
      "version": "3.13.0"
    },
    "colab": {
      "provenance": []
    }
  },
  "nbformat": 4,
  "nbformat_minor": 0
}