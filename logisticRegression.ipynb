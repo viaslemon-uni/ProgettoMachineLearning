{
  "cells": [
    {
      "cell_type": "code",
      "execution_count": 8,
      "metadata": {
        "id": "ASk-Jv3bbgpq"
      },
      "outputs": [],
      "source": [
        "import numpy as np\n",
        "import pandas as pd\n",
        "import matplotlib.pyplot as plt\n",
        "import sklearn.linear_model as lm\n",
        "from sklearn.metrics import accuracy_score, log_loss\n",
        "from sklearn.preprocessing import StandardScaler\n",
        "import torch\n",
        "import torch.nn.functional as F\n",
        "\n",
        "# fPath = \"C:\\\\Users\\\\giuse\\\\Downloads\\\\monk\\\\\"\n",
        "nameTrain = \"monks-2.train\"\n",
        "nameTest = \"monks-2.test\"\n",
        "test = pd.read_csv(nameTest, sep=\"\\s+\", header=None)\n",
        "train = pd.read_csv(nameTrain, sep=\"\\s+\", header=None)\n",
        "\n",
        "scaler = StandardScaler()\n",
        "scaler = scaler.fit(train.iloc[:, 1:-1])\n",
        "trasfTrain = scaler.transform(train.iloc[:, 1:-1])\n",
        "trasfTest = scaler.transform(test.iloc[:, 1:-1])\n",
        "\n",
        "trasfTest = torch.tensor(trasfTest, dtype=torch.float32)\n",
        "trasfTrain = torch.tensor(trasfTrain, dtype=torch.float32)\n",
        "\n",
        "Y = train.iloc[:, 0]\n",
        "X = trasfTrain[:, 1:-1]\n",
        "xTest = trasfTest[:, 1:-1]\n",
        "\n",
        "## Grid sech"
      ]
    },
    {
      "cell_type": "markdown",
      "metadata": {
        "id": "11LltiOPbgps"
      },
      "source": [
        "Primo modello di regressione logistica: lbfgs\n"
      ]
    },
    {
      "cell_type": "code",
      "execution_count": 11,
      "metadata": {
        "id": "_SOOC8Nnbgpt",
        "outputId": "6389841a-6530-4916-eefd-1a0290ec98a1",
        "colab": {
          "base_uri": "https://localhost:8080/"
        }
      },
      "outputs": [
        {
          "output_type": "stream",
          "name": "stdout",
          "text": [
            "lbfgs \n",
            "score: 0.6620370370370371 \t loss: 0.641121841804014\n",
            "scoreCV: 0.6712962962962963 \t lossCV: 0.6386416142537522\n"
          ]
        }
      ],
      "source": [
        "logistic = lm.LogisticRegression(solver=\"lbfgs\", verbose=0)#, class_weight=\"balanced\")\n",
        "logisticCV = lm.LogisticRegressionCV(cv=50, solver=\"lbfgs\", verbose=0)#, class_weight=\"balanced\")\n",
        "logistic.fit(X, Y)\n",
        "logisticCV.fit(X, Y)\n",
        "\n",
        "logistic.predict(xTest)\n",
        "logisticCV.predict(xTest)\n",
        "loss = log_loss(test.iloc[:, 0], logistic.predict_proba(xTest))\n",
        "lossCV = log_loss(test.iloc[:, 0], logisticCV.predict_proba(xTest))\n",
        "score = logistic.score(xTest, test.iloc[:, 0])\n",
        "scoreCV = logisticCV.score(xTest, test.iloc[:, 0])\n",
        "print(f\"lbfgs \\nscore: {score} \\t loss: {loss}\")\n",
        "print(f\"scoreCV: {scoreCV} \\t lossCV: {lossCV}\")\n"
      ]
    },
    {
      "cell_type": "markdown",
      "metadata": {
        "id": "EmxsrRDcbgpu"
      },
      "source": [
        "Secondo modello di regressione logistica: lilblinear"
      ]
    },
    {
      "cell_type": "code",
      "execution_count": 3,
      "metadata": {
        "id": "tH1e0wc3bgpu",
        "outputId": "49134a46-9335-4c7a-f5ff-c74f18519f7e",
        "colab": {
          "base_uri": "https://localhost:8080/"
        }
      },
      "outputs": [
        {
          "output_type": "stream",
          "name": "stdout",
          "text": [
            "liblinear \n",
            "score: 0.8194444444444444 \t loss: 0.39326514104649124\n",
            "scoreCV: 0.8194444444444444 \t lossCV: 0.3892068706309421\n"
          ]
        }
      ],
      "source": [
        "logistic2 = lm.LogisticRegression(solver=\"liblinear\", verbose=0)\n",
        "logisticCV2 = lm.LogisticRegressionCV(cv=50, solver=\"liblinear\", verbose=0)\n",
        "logistic2.fit(X, Y)\n",
        "logisticCV2.fit(X, Y)\n",
        "\n",
        "logistic2.predict(xTest)\n",
        "logisticCV2.predict(xTest)\n",
        "loss2 = log_loss(test.iloc[:, 0], logistic2.predict_proba(xTest))\n",
        "lossCV2 = log_loss(test.iloc[:, 0], logisticCV2.predict_proba(xTest))\n",
        "score2 = logistic2.score(xTest, test.iloc[:, 0])\n",
        "scoreCV2 = logisticCV2.score(xTest, test.iloc[:, 0])\n",
        "print(f\"liblinear \\nscore: {score2} \\t loss: {loss2}\")\n",
        "print(f\"scoreCV: {scoreCV2} \\t lossCV: {lossCV2}\")"
      ]
    },
    {
      "cell_type": "markdown",
      "metadata": {
        "id": "FP8fAZAIbgpv"
      },
      "source": [
        "Terzo modello di regressione logistica: newton-cholesky"
      ]
    },
    {
      "cell_type": "code",
      "execution_count": 5,
      "metadata": {
        "id": "pdT5NAFibgpv",
        "outputId": "eec3ea77-3c02-4927-e1df-202ef286b16a",
        "colab": {
          "base_uri": "https://localhost:8080/"
        }
      },
      "outputs": [
        {
          "output_type": "stream",
          "name": "stdout",
          "text": [
            "newton-cholesky \n",
            "score: 0.8333333333333334 \t loss: 0.39336392033431294\n",
            "scoreCV: 0.8888888888888888 \t lossCV: 0.6282534529562219\n"
          ]
        }
      ],
      "source": [
        "logistic3 = lm.LogisticRegression(solver=\"newton-cholesky\", verbose=0)\n",
        "logisticCV3 = lm.LogisticRegressionCV(cv=50, solver=\"newton-cholesky\", verbose=0)\n",
        "logistic3.fit(X, Y)\n",
        "logisticCV3.fit(X, Y)\n",
        "\n",
        "logistic3.predict(xTest)\n",
        "logisticCV3.predict(xTest)\n",
        "loss3 = log_loss(test.iloc[:, 0], logistic3.predict_proba(xTest))\n",
        "lossCV3 = log_loss(test.iloc[:, 0], logisticCV3.predict_proba(xTest))\n",
        "score3 = logistic3.score(xTest, test.iloc[:, 0])\n",
        "scoreCV3 = logisticCV3.score(xTest, test.iloc[:, 0])\n",
        "print(f\"newton-cholesky \\nscore: {score3} \\t loss: {loss3}\")\n",
        "print(f\"scoreCV: {scoreCV3} \\t lossCV: {lossCV3}\")"
      ]
    },
    {
      "cell_type": "markdown",
      "metadata": {
        "id": "_hFIPpeJbgpv"
      },
      "source": [
        "Quarto modello di regressione logistica: saga"
      ]
    },
    {
      "cell_type": "code",
      "execution_count": 6,
      "metadata": {
        "id": "iayjzeIKbgpv",
        "outputId": "2ec86f61-84f2-495c-9c91-fc359f2af527",
        "colab": {
          "base_uri": "https://localhost:8080/"
        }
      },
      "outputs": [
        {
          "output_type": "stream",
          "name": "stdout",
          "text": [
            "sag \n",
            "score: 0.8333333333333334 \t loss: 0.3933587221985134\n",
            "scoreCV: 0.8888888888888888 \t lossCV: 0.6282693206377601\n"
          ]
        }
      ],
      "source": [
        "logistic4 = lm.LogisticRegression(solver=\"sag\", verbose=0)\n",
        "logisticCV4 = lm.LogisticRegressionCV(cv=50, solver=\"sag\", verbose=0)\n",
        "logistic4.fit(X, Y)\n",
        "logisticCV4.fit(X, Y)\n",
        "\n",
        "logistic4.predict(xTest)\n",
        "logisticCV4.predict(xTest)\n",
        "loss4 = log_loss(test.iloc[:, 0], logistic4.predict_proba(xTest))\n",
        "lossCV4 = log_loss(test.iloc[:, 0], logisticCV4.predict_proba(xTest))\n",
        "score4 = logistic4.score(xTest, test.iloc[:, 0])\n",
        "scoreCV4 = logisticCV4.score(xTest, test.iloc[:, 0])\n",
        "print(f\"sag \\nscore: {score4} \\t loss: {loss4}\")\n",
        "print(f\"scoreCV: {scoreCV4} \\t lossCV: {lossCV4}\")"
      ]
    },
    {
      "cell_type": "code",
      "source": [
        "import torch\n",
        "import torch.nn as nn\n",
        "import torch.optim as optim\n",
        "from torch.utils.data import DataLoader, TensorDataset\n",
        "import matplotlib.pyplot as plt\n",
        "\n",
        "# Definire il modello di regressione logistica\n",
        "class LogisticRegression(nn.Module):\n",
        "    def __init__(self, n_inputs):\n",
        "        super(LogisticRegression, self).__init__()\n",
        "        self.linear = nn.Linear(n_inputs, 1)  # 1 output per classificazione binaria\n",
        "\n",
        "    def forward(self, x):\n",
        "        return torch.sigmoid(self.linear(x))  # Sigmoide per classificazione binaria\n",
        "\n",
        "# Preparazione dei dati\n",
        "train_labels = torch.tensor(train.iloc[:, 0].values, dtype=torch.float32).unsqueeze(1)  # Aggiungi una dimensione\n",
        "test_labels = torch.tensor(test.iloc[:, 0].values, dtype=torch.float32).unsqueeze(1)\n",
        "\n",
        "# Crea dataset e DataLoader\n",
        "train_dataset = TensorDataset(trasfTrain, train_labels)\n",
        "test_dataset = TensorDataset(trasfTest, test_labels)\n",
        "train_loader = DataLoader(train_dataset, batch_size=32, shuffle=True)\n",
        "test_loader = DataLoader(test_dataset, batch_size=32, shuffle=False)\n",
        "\n",
        "# Inizializza il modello, la funzione di perdita e l'ottimizzatore\n",
        "n_inputs = trasfTrain.shape[1]  # Numero di caratteristiche\n",
        "model = LogisticRegression(n_inputs)\n",
        "criterion = nn.BCELoss()  # Binary Cross-Entropy Loss\n",
        "optimizer = optim.SGD(model.parameters(), lr=0.01)\n",
        "\n",
        "# Allenamento del modello\n",
        "epochs = 50\n",
        "Loss = []\n",
        "acc = []\n",
        "\n",
        "for epoch in range(epochs):\n",
        "    epoch_loss = 0.0\n",
        "    model.train()\n",
        "    for x, labels in train_loader:\n",
        "        optimizer.zero_grad()\n",
        "        outputs = model(x)\n",
        "        loss = criterion(outputs, labels)\n",
        "        loss.backward()\n",
        "        optimizer.step()\n",
        "        epoch_loss += loss.item()\n",
        "\n",
        "    Loss.append(epoch_loss / len(train_loader))\n",
        "\n",
        "    # Calcola l'accuratezza sul test set\n",
        "    model.eval()\n",
        "    correct = 0\n",
        "    total = 0\n",
        "    with torch.no_grad():\n",
        "        for x, labels in test_loader:\n",
        "            outputs = model(x)\n",
        "            predictions = (outputs >= 0.5).float()  # Soglia per classificazione binaria\n",
        "            correct += (predictions == labels).sum().item()\n",
        "            total += labels.size(0)\n",
        "\n",
        "    accuracy = 100 * correct / total\n",
        "    acc.append(accuracy)\n",
        "    print(f'Epoch: {epoch+1}, Loss: {Loss[-1]:.4f}, Accuracy: {accuracy:.2f}%')\n",
        "\n",
        "# Grafici della perdita e dell'accuratezza\n",
        "plt.figure(figsize=(10, 4))\n",
        "plt.subplot(1, 2, 1)\n",
        "plt.plot(Loss, label='Loss')\n",
        "plt.xlabel(\"Epochs\")\n",
        "plt.ylabel(\"Loss\")\n",
        "plt.title(\"Loss Curve\")\n",
        "plt.legend()\n",
        "\n",
        "plt.subplot(1, 2, 2)\n",
        "plt.plot(acc, label='Accuracy', color='green')\n",
        "plt.xlabel(\"Epochs\")\n",
        "plt.ylabel(\"Accuracy (%)\")\n",
        "plt.title(\"Accuracy Curve\")\n",
        "plt.legend()\n",
        "\n",
        "plt.tight_layout()\n",
        "plt.show()"
      ],
      "metadata": {
        "id": "lhq0QlAsMPke",
        "outputId": "af433c47-0f05-4009-d211-45403707a1c3",
        "colab": {
          "base_uri": "https://localhost:8080/",
          "height": 1000
        }
      },
      "execution_count": 7,
      "outputs": [
        {
          "output_type": "stream",
          "name": "stdout",
          "text": [
            "Epoch: 1, Loss: 0.7414, Accuracy: 60.42%\n",
            "Epoch: 2, Loss: 0.7348, Accuracy: 60.88%\n",
            "Epoch: 3, Loss: 0.7314, Accuracy: 61.57%\n",
            "Epoch: 4, Loss: 0.7206, Accuracy: 62.50%\n",
            "Epoch: 5, Loss: 0.7169, Accuracy: 63.43%\n",
            "Epoch: 6, Loss: 0.7099, Accuracy: 63.43%\n",
            "Epoch: 7, Loss: 0.7084, Accuracy: 64.35%\n",
            "Epoch: 8, Loss: 0.7039, Accuracy: 64.58%\n",
            "Epoch: 9, Loss: 0.6954, Accuracy: 65.05%\n",
            "Epoch: 10, Loss: 0.6939, Accuracy: 65.28%\n",
            "Epoch: 11, Loss: 0.6885, Accuracy: 65.97%\n",
            "Epoch: 12, Loss: 0.6826, Accuracy: 67.13%\n",
            "Epoch: 13, Loss: 0.6796, Accuracy: 67.13%\n",
            "Epoch: 14, Loss: 0.6762, Accuracy: 68.06%\n",
            "Epoch: 15, Loss: 0.6701, Accuracy: 68.52%\n",
            "Epoch: 16, Loss: 0.6678, Accuracy: 68.98%\n",
            "Epoch: 17, Loss: 0.6626, Accuracy: 69.44%\n",
            "Epoch: 18, Loss: 0.6585, Accuracy: 69.68%\n",
            "Epoch: 19, Loss: 0.6587, Accuracy: 69.68%\n",
            "Epoch: 20, Loss: 0.6503, Accuracy: 69.91%\n",
            "Epoch: 21, Loss: 0.6449, Accuracy: 71.06%\n",
            "Epoch: 22, Loss: 0.6460, Accuracy: 71.30%\n",
            "Epoch: 23, Loss: 0.6442, Accuracy: 71.76%\n",
            "Epoch: 24, Loss: 0.6366, Accuracy: 71.76%\n",
            "Epoch: 25, Loss: 0.6327, Accuracy: 72.45%\n",
            "Epoch: 26, Loss: 0.6322, Accuracy: 72.69%\n",
            "Epoch: 27, Loss: 0.6276, Accuracy: 72.92%\n",
            "Epoch: 28, Loss: 0.6203, Accuracy: 73.38%\n",
            "Epoch: 29, Loss: 0.6187, Accuracy: 73.84%\n",
            "Epoch: 30, Loss: 0.6144, Accuracy: 74.54%\n",
            "Epoch: 31, Loss: 0.6100, Accuracy: 74.54%\n",
            "Epoch: 32, Loss: 0.6158, Accuracy: 74.54%\n",
            "Epoch: 33, Loss: 0.6096, Accuracy: 75.23%\n",
            "Epoch: 34, Loss: 0.6047, Accuracy: 75.23%\n",
            "Epoch: 35, Loss: 0.5990, Accuracy: 75.46%\n",
            "Epoch: 36, Loss: 0.6028, Accuracy: 75.46%\n",
            "Epoch: 37, Loss: 0.5950, Accuracy: 75.46%\n",
            "Epoch: 38, Loss: 0.5941, Accuracy: 75.93%\n",
            "Epoch: 39, Loss: 0.5925, Accuracy: 76.16%\n",
            "Epoch: 40, Loss: 0.5872, Accuracy: 76.62%\n",
            "Epoch: 41, Loss: 0.5882, Accuracy: 77.08%\n",
            "Epoch: 42, Loss: 0.5817, Accuracy: 77.55%\n",
            "Epoch: 43, Loss: 0.5775, Accuracy: 77.55%\n",
            "Epoch: 44, Loss: 0.5819, Accuracy: 77.78%\n",
            "Epoch: 45, Loss: 0.5776, Accuracy: 78.24%\n",
            "Epoch: 46, Loss: 0.5756, Accuracy: 78.01%\n",
            "Epoch: 47, Loss: 0.5721, Accuracy: 78.24%\n",
            "Epoch: 48, Loss: 0.5703, Accuracy: 78.47%\n",
            "Epoch: 49, Loss: 0.5678, Accuracy: 78.70%\n",
            "Epoch: 50, Loss: 0.5640, Accuracy: 78.94%\n"
          ]
        },
        {
          "output_type": "display_data",
          "data": {
            "text/plain": [
              "<Figure size 1000x400 with 2 Axes>"
            ],
            "image/png": "[encoded data removed]"
          },
          "metadata": {}
        }
      ]
    }
  ],
  "metadata": {
    "kernelspec": {
      "display_name": "Python 3",
      "language": "python",
      "name": "python3"
    },
    "language_info": {
      "codemirror_mode": {
        "name": "ipython",
        "version": 3
      },
      "file_extension": ".py",
      "mimetype": "text/x-python",
      "name": "python",
      "nbconvert_exporter": "python",
      "pygments_lexer": "ipython3",
      "version": "3.13.0"
    },
    "colab": {
      "provenance": []
    }
  },
  "nbformat": 4,
  "nbformat_minor": 0
}