{
  "cells": [
    {
      "cell_type": "code",
      "execution_count": 11,
      "metadata": {
        "id": "ASk-Jv3bbgpq"
      },
      "outputs": [],
      "source": [
        "import numpy as np\n",
        "import pandas as pd\n",
        "import matplotlib.pyplot as plt\n",
        "import sklearn.linear_model as lm\n",
        "from sklearn.metrics import accuracy_score, log_loss\n",
        "from sklearn.preprocessing import StandardScaler\n",
        "import torch\n",
        "import torch.nn.functional as F\n",
        "\n",
        "# fPath = \"C:\\\\Users\\\\giuse\\\\Downloads\\\\monk\\\\\"\n",
        "nameTrain = \"monks-3.train\"\n",
        "nameTest = \"monks-3.test\"\n",
        "test = pd.read_csv(nameTest, sep=\"\\s+\", header=None)\n",
        "train = pd.read_csv(nameTrain, sep=\"\\s+\", header=None)\n",
        "\n",
        "scaler = StandardScaler()\n",
        "scaler = scaler.fit(train.iloc[:, 1:-1])\n",
        "trasfTrain = scaler.transform(train.iloc[:, 1:-1])\n",
        "trasfTest = scaler.transform(test.iloc[:, 1:-1])\n",
        "\n",
        "trasfTest = torch.tensor(trasfTest, dtype=torch.float32)\n",
        "trasfTrain = torch.tensor(trasfTrain, dtype=torch.float32)\n",
        "\n",
        "Y = train.iloc[:, 0]\n",
        "X = trasfTrain[:, 1:-1]\n",
        "xTest = trasfTest[:, 1:-1]\n"
      ]
    },
    {
      "cell_type": "markdown",
      "metadata": {
        "id": "11LltiOPbgps"
      },
      "source": [
        "Primo modello di regressione logistica: lbfgs\n"
      ]
    },
    {
      "cell_type": "code",
      "execution_count": 7,
      "metadata": {
        "id": "_SOOC8Nnbgpt",
        "outputId": "11d3e662-1c27-483c-c5ad-4bc6f1b4ddd9",
        "colab": {
          "base_uri": "https://localhost:8080/"
        }
      },
      "outputs": [
        {
          "output_type": "stream",
          "name": "stdout",
          "text": [
            "score: 0.8333333333333334 \t loss: 0.3933618808189197\n",
            "scoreCV: 0.8888888888888888 \t lossCV: 0.628258409549887\n"
          ]
        }
      ],
      "source": [
        "logistic = lm.LogisticRegression(solver=\"lbfgs\", verbose=0)\n",
        "logisticCV = lm.LogisticRegressionCV(cv=50, solver=\"lbfgs\", verbose=0)\n",
        "logistic.fit(X, Y)\n",
        "logisticCV.fit(X, Y)\n",
        "\n",
        "logistic.predict(xTest)\n",
        "logisticCV.predict(xTest)\n",
        "loss = log_loss(test.iloc[:, 0], logistic.predict_proba(xTest))\n",
        "lossCV = log_loss(test.iloc[:, 0], logisticCV.predict_proba(xTest))\n",
        "score = logistic.score(xTest, test.iloc[:, 0])\n",
        "scoreCV = logisticCV.score(xTest, test.iloc[:, 0])\n",
        "print(f\"lbfgs \\nscore: {score} \\t loss: {loss}\")\n",
        "print(f\"scoreCV: {scoreCV} \\t lossCV: {lossCV}\")\n"
      ]
    },
    {
      "cell_type": "markdown",
      "metadata": {
        "id": "EmxsrRDcbgpu"
      },
      "source": [
        "Secondo modello di regressione logistica: lilblinear"
      ]
    },
    {
      "cell_type": "code",
      "execution_count": 8,
      "metadata": {
        "id": "tH1e0wc3bgpu",
        "outputId": "8e93a41b-1281-405d-cd21-8884169b2ad1",
        "colab": {
          "base_uri": "https://localhost:8080/"
        }
      },
      "outputs": [
        {
          "output_type": "stream",
          "name": "stdout",
          "text": [
            "liblinear \n",
            "score: 0.8194444444444444 \t loss: 0.39326514104649124\n",
            "scoreCV: 0.8194444444444444 \t lossCV: 0.3892068706309421\n"
          ]
        }
      ],
      "source": [
        "logistic2 = lm.LogisticRegression(solver=\"liblinear\", verbose=0)\n",
        "logisticCV2 = lm.LogisticRegressionCV(cv=50, solver=\"liblinear\", verbose=0)\n",
        "logistic2.fit(X, Y)\n",
        "logisticCV2.fit(X, Y)\n",
        "\n",
        "logistic2.predict(xTest)\n",
        "logisticCV2.predict(xTest)\n",
        "loss2 = log_loss(test.iloc[:, 0], logistic2.predict_proba(xTest))\n",
        "lossCV2 = log_loss(test.iloc[:, 0], logisticCV2.predict_proba(xTest))\n",
        "score2 = logistic2.score(xTest, test.iloc[:, 0])\n",
        "scoreCV2 = logisticCV2.score(xTest, test.iloc[:, 0])\n",
        "print(f\"liblinear \\nscore: {score2} \\t loss: {loss2}\")\n",
        "print(f\"scoreCV: {scoreCV2} \\t lossCV: {lossCV2}\")"
      ]
    },
    {
      "cell_type": "markdown",
      "metadata": {
        "id": "FP8fAZAIbgpv"
      },
      "source": [
        "Terzo modello di regressione logistica: newton-cholesky"
      ]
    },
    {
      "cell_type": "code",
      "execution_count": null,
      "metadata": {
        "id": "pdT5NAFibgpv",
        "outputId": "a85b398e-33f9-403a-ca01-908ce85e18e6",
        "colab": {
          "base_uri": "https://localhost:8080/"
        }
      },
      "outputs": [
        {
          "output_type": "stream",
          "name": "stdout",
          "text": [
            "0.8333333333333334\n",
            "0.7777777777777778\n"
          ]
        }
      ],
      "source": [
        "logistic3 = lm.LogisticRegression(solver=\"newton-cholesky\", verbose=0)\n",
        "logisticCV3 = lm.LogisticRegressionCV(cv=50, solver=\"newton-cholesky\", verbose=0)\n",
        "logistic3.fit(X, Y)\n",
        "logisticCV2.fit(X, Y)\n",
        "\n",
        "logistic3.predict(xTest)\n",
        "logisticCV3.predict(xTest)\n",
        "loss3 = log_loss(test.iloc[:, 0], logistic3.predict_proba(xTest))\n",
        "lossCV3 = log_loss(test.iloc[:, 0], logisticCV3.predict_proba(xTest))\n",
        "score3 = logistic3.score(xTest, test.iloc[:, 0])\n",
        "scoreCV3 = logisticCV3.score(xTest, test.iloc[:, 0])\n",
        "print(f\"newton-cholesky \\nscore: {score3} \\t loss: {loss3}\")\n",
        "print(f\"scoreCV: {scoreCV3} \\t lossCV: {lossCV3}\")"
      ]
    },
    {
      "cell_type": "markdown",
      "metadata": {
        "id": "_hFIPpeJbgpv"
      },
      "source": [
        "Quarto modello di regressione logistica: saga"
      ]
    },
    {
      "cell_type": "code",
      "execution_count": null,
      "metadata": {
        "id": "iayjzeIKbgpv",
        "outputId": "58555282-128a-4ae1-8e9b-bb9c83fbd0ab",
        "colab": {
          "base_uri": "https://localhost:8080/"
        }
      },
      "outputs": [
        {
          "output_type": "stream",
          "name": "stdout",
          "text": [
            "0.8333333333333334\n",
            "0.7777777777777778\n"
          ]
        }
      ],
      "source": [
        "logistic4 = lm.LogisticRegression(solver=\"sag\", verbose=0)\n",
        "logisticCV4 = lm.LogisticRegressionCV(cv=50, solver=\"sag\", verbose=0)\n",
        "logistic4.fit(X, Y)\n",
        "logisticCV4.fit(X, Y)\n",
        "\n",
        "logistic4.predict(xTest)\n",
        "logisticCV4.predict(xTest)\n",
        "loss4 = log_loss(test.iloc[:, 0], logistic4.predict_proba(xTest))\n",
        "lossCV4 = log_loss(test.iloc[:, 0], logisticCV4.predict_proba(xTest))\n",
        "score4 = logistic4.score(xTest, test.iloc[:, 0])\n",
        "scoreCV4 = logisticCV4.score(xTest, test.iloc[:, 0])\n",
        "print(f\"sag \\nscore: {score4} \\t loss: {loss4}\")\n",
        "print(f\"scoreCV: {scoreCV4} \\t lossCV: {lossCV4}\")"
      ]
    },
    {
      "cell_type": "code",
      "source": [
        "import torch\n",
        "import torch.nn as nn\n",
        "import torch.optim as optim\n",
        "from torch.utils.data import DataLoader, TensorDataset\n",
        "import matplotlib.pyplot as plt\n",
        "\n",
        "# Definire il modello di regressione logistica\n",
        "class LogisticRegression(nn.Module):\n",
        "    def __init__(self, n_inputs):\n",
        "        super(LogisticRegression, self).__init__()\n",
        "        self.linear = nn.Linear(n_inputs, 1)  # 1 output per classificazione binaria\n",
        "\n",
        "    def forward(self, x):\n",
        "        return torch.sigmoid(self.linear(x))  # Sigmoide per classificazione binaria\n",
        "\n",
        "# Preparazione dei dati\n",
        "train_labels = torch.tensor(train.iloc[:, 0].values, dtype=torch.float32).unsqueeze(1)  # Aggiungi una dimensione\n",
        "test_labels = torch.tensor(test.iloc[:, 0].values, dtype=torch.float32).unsqueeze(1)\n",
        "\n",
        "# Crea dataset e DataLoader\n",
        "train_dataset = TensorDataset(trasfTrain, train_labels)\n",
        "test_dataset = TensorDataset(trasfTest, test_labels)\n",
        "train_loader = DataLoader(train_dataset, batch_size=32, shuffle=True)\n",
        "test_loader = DataLoader(test_dataset, batch_size=32, shuffle=False)\n",
        "\n",
        "# Inizializza il modello, la funzione di perdita e l'ottimizzatore\n",
        "n_inputs = trasfTrain.shape[1]  # Numero di caratteristiche\n",
        "model = LogisticRegression(n_inputs)\n",
        "criterion = nn.BCELoss()  # Binary Cross-Entropy Loss\n",
        "optimizer = optim.SGD(model.parameters(), lr=0.01)\n",
        "\n",
        "# Allenamento del modello\n",
        "epochs = 50\n",
        "Loss = []\n",
        "acc = []\n",
        "\n",
        "for epoch in range(epochs):\n",
        "    epoch_loss = 0.0\n",
        "    model.train()\n",
        "    for x, labels in train_loader:\n",
        "        optimizer.zero_grad()\n",
        "        outputs = model(x)\n",
        "        loss = criterion(outputs, labels)\n",
        "        loss.backward()\n",
        "        optimizer.step()\n",
        "        epoch_loss += loss.item()\n",
        "\n",
        "    Loss.append(epoch_loss / len(train_loader))\n",
        "\n",
        "    # Calcola l'accuratezza sul test set\n",
        "    model.eval()\n",
        "    correct = 0\n",
        "    total = 0\n",
        "    with torch.no_grad():\n",
        "        for x, labels in test_loader:\n",
        "            outputs = model(x)\n",
        "            predictions = (outputs >= 0.5).float()  # Soglia per classificazione binaria\n",
        "            correct += (predictions == labels).sum().item()\n",
        "            total += labels.size(0)\n",
        "\n",
        "    accuracy = 100 * correct / total\n",
        "    acc.append(accuracy)\n",
        "    print(f'Epoch: {epoch+1}, Loss: {Loss[-1]:.4f}, Accuracy: {accuracy:.2f}%')\n",
        "\n",
        "# Grafici della perdita e dell'accuratezza\n",
        "plt.figure(figsize=(10, 4))\n",
        "plt.subplot(1, 2, 1)\n",
        "plt.plot(Loss, label='Loss')\n",
        "plt.xlabel(\"Epochs\")\n",
        "plt.ylabel(\"Loss\")\n",
        "plt.title(\"Loss Curve\")\n",
        "plt.legend()\n",
        "\n",
        "plt.subplot(1, 2, 2)\n",
        "plt.plot(acc, label='Accuracy', color='green')\n",
        "plt.xlabel(\"Epochs\")\n",
        "plt.ylabel(\"Accuracy (%)\")\n",
        "plt.title(\"Accuracy Curve\")\n",
        "plt.legend()\n",
        "\n",
        "plt.tight_layout()\n",
        "plt.show()"
      ],
      "metadata": {
        "id": "lhq0QlAsMPke",
        "outputId": "03066435-3fa5-44cf-9642-949601ebcd73",
        "colab": {
          "base_uri": "https://localhost:8080/",
          "height": 1000
        }
      },
      "execution_count": 16,
      "outputs": [
        {
          "output_type": "stream",
          "name": "stdout",
          "text": [
            "Epoch: 1, Loss: 0.7608, Accuracy: 42.13%\n",
            "Epoch: 2, Loss: 0.7536, Accuracy: 42.82%\n",
            "Epoch: 3, Loss: 0.7502, Accuracy: 43.06%\n",
            "Epoch: 4, Loss: 0.7476, Accuracy: 44.21%\n",
            "Epoch: 5, Loss: 0.7401, Accuracy: 44.91%\n",
            "Epoch: 6, Loss: 0.7339, Accuracy: 44.68%\n",
            "Epoch: 7, Loss: 0.7283, Accuracy: 45.37%\n",
            "Epoch: 8, Loss: 0.7204, Accuracy: 46.06%\n",
            "Epoch: 9, Loss: 0.7189, Accuracy: 46.76%\n",
            "Epoch: 10, Loss: 0.7135, Accuracy: 47.69%\n",
            "Epoch: 11, Loss: 0.7078, Accuracy: 47.69%\n",
            "Epoch: 12, Loss: 0.7044, Accuracy: 47.92%\n",
            "Epoch: 13, Loss: 0.6999, Accuracy: 48.61%\n",
            "Epoch: 14, Loss: 0.6952, Accuracy: 49.54%\n",
            "Epoch: 15, Loss: 0.6886, Accuracy: 50.46%\n",
            "Epoch: 16, Loss: 0.6820, Accuracy: 51.39%\n",
            "Epoch: 17, Loss: 0.6805, Accuracy: 51.85%\n",
            "Epoch: 18, Loss: 0.6757, Accuracy: 52.31%\n",
            "Epoch: 19, Loss: 0.6719, Accuracy: 53.01%\n",
            "Epoch: 20, Loss: 0.6650, Accuracy: 53.24%\n",
            "Epoch: 21, Loss: 0.6644, Accuracy: 54.40%\n",
            "Epoch: 22, Loss: 0.6626, Accuracy: 54.63%\n",
            "Epoch: 23, Loss: 0.6546, Accuracy: 55.56%\n",
            "Epoch: 24, Loss: 0.6520, Accuracy: 56.02%\n",
            "Epoch: 25, Loss: 0.6500, Accuracy: 56.48%\n",
            "Epoch: 26, Loss: 0.6467, Accuracy: 56.94%\n",
            "Epoch: 27, Loss: 0.6411, Accuracy: 57.18%\n",
            "Epoch: 28, Loss: 0.6390, Accuracy: 57.64%\n",
            "Epoch: 29, Loss: 0.6357, Accuracy: 57.18%\n",
            "Epoch: 30, Loss: 0.6313, Accuracy: 58.56%\n",
            "Epoch: 31, Loss: 0.6339, Accuracy: 59.26%\n",
            "Epoch: 32, Loss: 0.6247, Accuracy: 58.80%\n",
            "Epoch: 33, Loss: 0.6250, Accuracy: 59.26%\n",
            "Epoch: 34, Loss: 0.6189, Accuracy: 59.72%\n",
            "Epoch: 35, Loss: 0.6180, Accuracy: 61.11%\n",
            "Epoch: 36, Loss: 0.6129, Accuracy: 61.11%\n",
            "Epoch: 37, Loss: 0.6111, Accuracy: 61.57%\n",
            "Epoch: 38, Loss: 0.6058, Accuracy: 62.27%\n",
            "Epoch: 39, Loss: 0.6057, Accuracy: 63.19%\n",
            "Epoch: 40, Loss: 0.6045, Accuracy: 63.66%\n",
            "Epoch: 41, Loss: 0.5980, Accuracy: 64.12%\n",
            "Epoch: 42, Loss: 0.5946, Accuracy: 64.35%\n",
            "Epoch: 43, Loss: 0.5961, Accuracy: 64.58%\n",
            "Epoch: 44, Loss: 0.5903, Accuracy: 65.05%\n",
            "Epoch: 45, Loss: 0.5875, Accuracy: 65.74%\n",
            "Epoch: 46, Loss: 0.5859, Accuracy: 66.20%\n",
            "Epoch: 47, Loss: 0.5811, Accuracy: 66.44%\n",
            "Epoch: 48, Loss: 0.5817, Accuracy: 67.13%\n",
            "Epoch: 49, Loss: 0.5794, Accuracy: 67.13%\n",
            "Epoch: 50, Loss: 0.5761, Accuracy: 67.82%\n"
          ]
        },
        {
          "output_type": "display_data",
          "data": {
            "text/plain": [
              "<Figure size 1000x400 with 2 Axes>"
            ],
            "image/png": "[encoded data removed]"
          },
          "metadata": {}
        }
      ]
    }
  ],
  "metadata": {
    "kernelspec": {
      "display_name": "Python 3",
      "language": "python",
      "name": "python3"
    },
    "language_info": {
      "codemirror_mode": {
        "name": "ipython",
        "version": 3
      },
      "file_extension": ".py",
      "mimetype": "text/x-python",
      "name": "python",
      "nbconvert_exporter": "python",
      "pygments_lexer": "ipython3",
      "version": "3.13.0"
    },
    "colab": {
      "provenance": [],
      "toc_visible": true
    }
  },
  "nbformat": 4,
  "nbformat_minor": 0
}